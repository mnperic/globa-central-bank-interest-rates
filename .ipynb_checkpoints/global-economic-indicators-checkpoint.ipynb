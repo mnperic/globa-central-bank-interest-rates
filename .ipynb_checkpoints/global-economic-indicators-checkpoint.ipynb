{
 "cells": [
  {
   "cell_type": "code",
   "execution_count": 3,
   "id": "3b5e06a7",
   "metadata": {},
   "outputs": [],
   "source": [
    "# Import dependencies and setup\n",
    "\n",
    "import matplotlib.pyplot as plt\n",
    "import matplotlib as matplotlib\n",
    "import pandas as pd\n",
    "import datetime as dt\n",
    "import matplotlib.dates as mdates"
   ]
  },
  {
   "cell_type": "code",
   "execution_count": 10,
   "id": "238e8ba7",
   "metadata": {},
   "outputs": [],
   "source": [
    "# Read .csv files and store as DataFrames\n",
    "    # banking sector leverage\n",
    "    # business confidence index (BCI)\n",
    "    # composite leading indicator (CLI)\n",
    "    # consumer confidence index (CCI)\n",
    "    # exchange rates\n",
    "    # financial corporate debt to equity ratio\n",
    "    # general government deficit\n",
    "    # gdp\n",
    "    # quarterly gdp\n",
    "    # household debt\n",
    "    # household disposable income\n",
    "    # inflation (CPI)\n",
    "    # long term interest rates\n",
    "    # part-time employment rate\n",
    "    # short term interest rates\n",
    "    # unemployment rate\n",
    "    # youth_unemployment rate\n",
    "\n",
    "banking_sector_leverage_path = \"Resources/banking_sector_leverage.csv\"\n",
    "bsl_df = pd.read_csv(banking_sector_leverage_path)\n",
    "\n",
    "business_confidence_index_path = \"Resources/business_confidence_index_bci.csv\"\n",
    "bci_df = pd.read_csv(business_confidence_index_path)\n",
    "\n",
    "composite_leading_indicator_path = \"Resources/composite_leading_indicator_cli.csv\"\n",
    "cli_df = pd.read_csv(composite_leading_indicator_path)\n",
    "\n",
    "consumer_confidence_index_path = \"Resources/consumer_confidence_index_cci.csv\"\n",
    "cci_df = pd.read_csv(consumer_confidence_index_path)\n",
    "\n",
    "exchange_rates_path = \"Resources/exchange_rates.csv\"\n",
    "exchange_rates_df = pd.read_csv(exchange_rates_path)\n",
    "\n",
    "financial_corporate_debt_to_equity_path = \"Resources/financial_corporate_debt_to_equity.csv\"\n",
    "fcdter_df = pd.read_csv(financial_corporate_debt_to_equity_path)\n",
    "\n",
    "general_government_deficit_path = \"Resources/general_government_deficit.csv\"\n",
    "ggd_df = pd.read_csv(general_government_deficit_path)\n",
    "\n",
    "gdp_path = \"Resources/gross_domestic_product_gdp.csv\"\n",
    "gdp_df = pd.read_csv(gdp_path)\n",
    "\n",
    "quarterly_gdp_path = \"Resources/quarterly_gross_domestic_product_gdp.csv\"\n",
    "qgdp_df = pd.read_csv(quarterly_gdp_path)\n",
    "\n",
    "household_debt_path = \"Resources/household_debt.csv\"\n",
    "household_debt_df = pd.read_csv(household_debt_path)\n",
    "\n",
    "household_disposable_income_path = \"Resources/household_disposable_income.csv\"\n",
    "hdi_df = pd.read_csv(household_disposable_income_path)\n",
    "\n",
    "inflation_cpi_path = \"Resources/inflation.csv\"\n",
    "cpi_df = pd.read_csv(inflation_cpi_path)\n",
    "\n",
    "long_term_interest_rates_path = \"Resources/long_term_interest_rates.csv\"\n",
    "ltir_df = pd.read_csv(long_term_interest_rates_path)\n",
    "\n",
    "part_time_employment_rate_path = \"Resources/part-time_employment_rate.csv\"\n",
    "pter = pd.read_csv(part_time_employment_rate_path)\n",
    "\n",
    "short_term_interest_rates_path = \"Resources/short_term_interest_rates.csv\"\n",
    "stir_df = pd.read_csv(short_term_interest_rates_path)\n",
    "\n",
    "unemployment_rate_path = \"Resources/unemployment_rate.csv\"\n",
    "unemployment_df = pd.read_csv(unemployment_rate_path)\n",
    "\n",
    "youth_unemployment_rate_path = \"Resources/youth_unemployment_rate.csv\"\n",
    "youth_unemployment_df = pd.read_csv(youth_unemployment_rate_path)"
   ]
  },
  {
   "cell_type": "code",
   "execution_count": null,
   "id": "b0e055ac",
   "metadata": {},
   "outputs": [],
   "source": []
  },
  {
   "cell_type": "code",
   "execution_count": null,
   "id": "2fc6b21a",
   "metadata": {},
   "outputs": [],
   "source": []
  },
  {
   "cell_type": "code",
   "execution_count": null,
   "id": "6767f9c3",
   "metadata": {},
   "outputs": [],
   "source": []
  },
  {
   "cell_type": "code",
   "execution_count": null,
   "id": "f53d333f",
   "metadata": {},
   "outputs": [],
   "source": []
  },
  {
   "cell_type": "code",
   "execution_count": null,
   "id": "a43412b5",
   "metadata": {},
   "outputs": [],
   "source": []
  },
  {
   "cell_type": "code",
   "execution_count": null,
   "id": "3bb9233a",
   "metadata": {},
   "outputs": [],
   "source": []
  },
  {
   "cell_type": "code",
   "execution_count": null,
   "id": "60e971bf",
   "metadata": {},
   "outputs": [],
   "source": []
  },
  {
   "cell_type": "code",
   "execution_count": null,
   "id": "7a93c838",
   "metadata": {},
   "outputs": [],
   "source": []
  },
  {
   "cell_type": "code",
   "execution_count": null,
   "id": "3e4395b3",
   "metadata": {},
   "outputs": [],
   "source": []
  },
  {
   "cell_type": "code",
   "execution_count": null,
   "id": "8f72656a",
   "metadata": {},
   "outputs": [],
   "source": []
  }
 ],
 "metadata": {
  "kernelspec": {
   "display_name": "Python 3",
   "language": "python",
   "name": "python3"
  },
  "language_info": {
   "codemirror_mode": {
    "name": "ipython",
    "version": 3
   },
   "file_extension": ".py",
   "mimetype": "text/x-python",
   "name": "python",
   "nbconvert_exporter": "python",
   "pygments_lexer": "ipython3",
   "version": "3.8.8"
  }
 },
 "nbformat": 4,
 "nbformat_minor": 5
}
